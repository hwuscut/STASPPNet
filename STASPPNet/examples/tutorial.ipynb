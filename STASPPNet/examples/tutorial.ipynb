version https://git-lfs.github.com/spec/v1
oid sha256:f97a498a4240d2bd14e001d7b527ed303866053c40527306c88329b553079cff
size 32691
